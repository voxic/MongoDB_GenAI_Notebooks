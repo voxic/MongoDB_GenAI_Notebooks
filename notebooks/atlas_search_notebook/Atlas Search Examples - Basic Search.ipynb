{
 "cells": [
  {
   "cell_type": "markdown",
   "id": "78f49223",
   "metadata": {},
   "source": [
    "# MongoDB Atlas Search: Basic Search"
   ]
  },
  {
   "cell_type": "markdown",
   "id": "ac751afa",
   "metadata": {},
   "source": [
    "## Setup"
   ]
  },
  {
   "cell_type": "code",
   "execution_count": 1,
   "id": "4f94ad7e",
   "metadata": {},
   "outputs": [],
   "source": [
    "# import our libraries, instantiate our classes\n",
    "\n",
    "import sys\n",
    "import os\n",
    "from pymongo import MongoClient\n",
    "from dotenv import load_dotenv\n",
    "import pprint\n",
    "\n",
    "# Load environment variables from a .env file, overriding any existing variables in the environment.\n",
    "# This is useful for not cluttering the code with sensitive information like API keys and database URIs.\n",
    "load_dotenv(override=True)\n",
    "\n",
    "MONGO_URI = os.environ[\"MONGO_URI\"]\n",
    "\n",
    "client = MongoClient(MONGO_URI)['sample_mflix']\n",
    "\n",
    "pp = pprint.PrettyPrinter(indent=1)"
   ]
  },
  {
   "cell_type": "markdown",
   "id": "dde57663",
   "metadata": {},
   "source": [
    "### Simple search"
   ]
  },
  {
   "cell_type": "markdown",
   "id": "05765cbe",
   "metadata": {},
   "source": [
    "#### Atlas Search Index\n",
    "\n",
    "```json\n",
    "\n",
    "{\n",
    "  \"mappings\": {\n",
    "    \"dynamic\": true\n",
    "  }\n",
    "}\n",
    "\n",
    "```"
   ]
  },
  {
   "cell_type": "code",
   "execution_count": 2,
   "id": "91a9c40c",
   "metadata": {},
   "outputs": [
    {
     "name": "stdout",
     "output_type": "stream",
     "text": [
      "[{'plot': 'An insomniac office worker, looking for a way to change his life, '\n",
      "          'crosses paths with a devil-may-care soap maker, forming an '\n",
      "          'underground fight club that evolves into something much, much '\n",
      "          'more...',\n",
      "  'title': 'Fight Club'},\n",
      " {'plot': 'When Zatoichi witnesses the murder of a young mother he promises to '\n",
      "          'deliver the baby to the father. Along the way he gains the help of '\n",
      "          'a reluctant criminal.',\n",
      "  'title': 'Fight, Zatoichi, Fight'},\n",
      " {'plot': 'When Zatoichi witnesses the murder of a young mother he promises to '\n",
      "          'deliver the baby to the father. Along the way he gains the help of '\n",
      "          'a reluctant criminal.',\n",
      "  'title': 'Fight, Zatoichi, Fight'},\n",
      " {'plot': 'This documentary follows the 2002 mayoral campaign in Newark, New '\n",
      "          'Jersey in which the Cory Booker attempted to unseat longtime mayor '\n",
      "          'Sharpe James.',\n",
      "  'title': 'Street Fight'},\n",
      " {'plot': 'A video of an assault on a teenager surfaces on the Internet.',\n",
      "  'title': 'Girl Fight'}]\n"
     ]
    }
   ],
   "source": [
    "basic_search = [\n",
    "    {\n",
    "        '$search' :{\n",
    "              'text': {\n",
    "                  'query': \"fight club\",\n",
    "                  'path': \"title\"\n",
    "              }\n",
    "        }\n",
    "    },\n",
    "    {\n",
    "        '$project' : {\n",
    "            '_id' : 0,\n",
    "            'title' : 1,\n",
    "            'plot' : 1\n",
    "        } \n",
    "    },\n",
    "    {'$limit' : 5}\n",
    "]\n",
    "\n",
    "result = list(client['movies'].aggregate(basic_search))\n",
    "pp.pprint(result)"
   ]
  },
  {
   "cell_type": "markdown",
   "id": "4c72b3c5",
   "metadata": {},
   "source": [
    "#### Now with Fuzzy"
   ]
  },
  {
   "cell_type": "code",
   "execution_count": 3,
   "id": "c6475960",
   "metadata": {},
   "outputs": [
    {
     "name": "stdout",
     "output_type": "stream",
     "text": [
      "[{'plot': 'An insomniac office worker, looking for a way to change his life, '\n",
      "          'crosses paths with a devil-may-care soap maker, forming an '\n",
      "          'underground fight club that evolves into something much, much '\n",
      "          'more...',\n",
      "  'title': 'Fight Club'},\n",
      " {'plot': 'Reunited by the death of a college friend, three divorced women '\n",
      "          'seek revenge on the husbands who left them for younger women.',\n",
      "  'title': 'The First Wives Club'},\n",
      " {'plot': 'When a teenager learns that his next door neighbour is a vampire, '\n",
      "          'no one will believe him.',\n",
      "  'title': 'Fright Night'},\n",
      " {'plot': 'The story of a fastidiously organized businessman, whose '\n",
      "          'perspective on life is forever changed through an unexpected '\n",
      "          'encounter with a tiny fledgling bird.',\n",
      "  'title': 'First Flight'},\n",
      " {'plot': 'A teenager suspects that his new neighbor is a vampire.',\n",
      "  'title': 'Fright Night'}]\n"
     ]
    }
   ],
   "source": [
    "pipeline = [\n",
    "    {\n",
    "        '$search': {\n",
    "            'text': {\n",
    "                'query': \"fihgt club\", #Fight club in intentionally misspelled\n",
    "                'path': \"title\",\n",
    "                'fuzzy': {\n",
    "                    'maxEdits': 2\n",
    "                }\n",
    "            }\n",
    "        }\n",
    "    },\n",
    "    {\n",
    "        '$project' : {\n",
    "            '_id' : 0,\n",
    "            'title' : 1,\n",
    "            'plot' : 1\n",
    "        } \n",
    "    },\n",
    "    {'$limit' : 5}\n",
    "]\n",
    "\n",
    "result = list(client['movies'].aggregate(pipeline))\n",
    "pp.pprint(result)"
   ]
  },
  {
   "cell_type": "markdown",
   "id": "8fb012ba",
   "metadata": {},
   "source": [
    "#### Now with Score"
   ]
  },
  {
   "cell_type": "code",
   "execution_count": 4,
   "id": "79063bff",
   "metadata": {},
   "outputs": [
    {
     "name": "stdout",
     "output_type": "stream",
     "text": [
      "[{'plot': 'An insomniac office worker, looking for a way to change his life, '\n",
      "          'crosses paths with a devil-may-care soap maker, forming an '\n",
      "          'underground fight club that evolves into something much, much '\n",
      "          'more...',\n",
      "  'score': 4.897842884063721,\n",
      "  'title': 'Fight Club'},\n",
      " {'plot': 'Reunited by the death of a college friend, three divorced women '\n",
      "          'seek revenge on the husbands who left them for younger women.',\n",
      "  'score': 3.3110339641571045,\n",
      "  'title': 'The First Wives Club'},\n",
      " {'plot': 'When a teenager learns that his next door neighbour is a vampire, '\n",
      "          'no one will believe him.',\n",
      "  'score': 3.0531017780303955,\n",
      "  'title': 'Fright Night'},\n",
      " {'plot': 'The story of a fastidiously organized businessman, whose '\n",
      "          'perspective on life is forever changed through an unexpected '\n",
      "          'encounter with a tiny fledgling bird.',\n",
      "  'score': 3.0531017780303955,\n",
      "  'title': 'First Flight'},\n",
      " {'plot': 'A teenager suspects that his new neighbor is a vampire.',\n",
      "  'score': 3.0531017780303955,\n",
      "  'title': 'Fright Night'}]\n"
     ]
    }
   ],
   "source": [
    "pipeline = [\n",
    "    {\n",
    "        '$search': {\n",
    "            'text': {\n",
    "                'query': \"fihgt club\",\n",
    "                'path': \"title\",\n",
    "                'fuzzy': {\n",
    "                    'maxEdits': 2\n",
    "                }\n",
    "            }\n",
    "        }\n",
    "    },\n",
    "    {\n",
    "        '$project' : {\n",
    "            '_id' : 0,\n",
    "            'title' : 1,\n",
    "            'plot' : 1,\n",
    "            'score' : {\"$meta\" : \"searchScore\" }\n",
    "        } \n",
    "    },\n",
    "    {'$limit' : 5}\n",
    "]\n",
    "\n",
    "result = list(client['movies'].aggregate(pipeline))\n",
    "pp.pprint(result)"
   ]
  },
  {
   "cell_type": "markdown",
   "id": "f6c25dc1",
   "metadata": {},
   "source": [
    "#### Now with autocomplete\n",
    "\n",
    "#### Autocomplete index\n",
    "\n",
    "```json\n",
    "\n",
    "{\n",
    "  \"mappings\": {\n",
    "    \"dynamic\": true,\n",
    "    \"fields\": {\n",
    "      \"title\": [\n",
    "        {\n",
    "          \"foldDiacritics\": false,\n",
    "          \"maxGrams\": 15,\n",
    "          \"minGrams\": 2,\n",
    "          \"tokenization\": \"edgeGram\",\n",
    "          \"type\": \"autocomplete\"\n",
    "        }\n",
    "      ]\n",
    "    }\n",
    "  }\n",
    "}\n",
    "\n",
    "```"
   ]
  },
  {
   "cell_type": "code",
   "execution_count": null,
   "id": "023456e0",
   "metadata": {},
   "outputs": [],
   "source": [
    "pipeline = [\n",
    "            {\n",
    "              '$search': {\n",
    "              'index' : \"autocomplete\",\n",
    "                'autocomplete': {\n",
    "                    'query': \"figh\",\n",
    "                    'path': \"title\"\n",
    "                }\n",
    "              }\n",
    "            },\n",
    "            { '$limit' : 3 },\n",
    "            { '$project' : { '_id' : 0, 'title' : 1}}\n",
    "        ]\n",
    "\n",
    "result = list(client['movies'].aggregate(pipeline))\n",
    "pp.pprint(result)"
   ]
  },
  {
   "cell_type": "code",
   "execution_count": null,
   "id": "f2005be1",
   "metadata": {},
   "outputs": [],
   "source": []
  }
 ],
 "metadata": {
  "kernelspec": {
   "display_name": "Python 3 (ipykernel)",
   "language": "python",
   "name": "python3"
  },
  "language_info": {
   "codemirror_mode": {
    "name": "ipython",
    "version": 3
   },
   "file_extension": ".py",
   "mimetype": "text/x-python",
   "name": "python",
   "nbconvert_exporter": "python",
   "pygments_lexer": "ipython3"
  },
  "vscode": {
   "interpreter": {
    "hash": "31f2aee4e71d21fbe5cf8b01ff0e069b9275f58929596ceb00d14d90e3e16cd6"
   }
  }
 },
 "nbformat": 4,
 "nbformat_minor": 5
}
