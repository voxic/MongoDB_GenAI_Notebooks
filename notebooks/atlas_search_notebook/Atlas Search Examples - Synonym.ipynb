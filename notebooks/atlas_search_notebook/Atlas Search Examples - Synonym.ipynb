{
 "cells": [
  {
   "cell_type": "markdown",
   "id": "78f49223",
   "metadata": {},
   "source": [
    "# MongoDB Atlas Search: Synonym"
   ]
  },
  {
   "cell_type": "markdown",
   "id": "ac751afa",
   "metadata": {},
   "source": [
    "## Setup"
   ]
  },
  {
   "cell_type": "code",
   "execution_count": 1,
   "id": "4f94ad7e",
   "metadata": {},
   "outputs": [],
   "source": [
    "# import our libraries, instantiate our classes\n",
    "\n",
    "import sys\n",
    "import os\n",
    "from pymongo import MongoClient\n",
    "from dotenv import load_dotenv\n",
    "import pprint\n",
    "\n",
    "# Load environment variables from a .env file, overriding any existing variables in the environment.\n",
    "# This is useful for not cluttering the code with sensitive information like API keys and database URIs.\n",
    "load_dotenv(override=True)\n",
    "\n",
    "MONGO_URI = os.environ[\"MONGO_URI\"]\n",
    "\n",
    "client = MongoClient(MONGO_URI)['sample_mflix']\n",
    "\n",
    "pp = pprint.PrettyPrinter(indent=1)"
   ]
  },
  {
   "cell_type": "markdown",
   "id": "dde57663",
   "metadata": {},
   "source": [
    "### Synonym search"
   ]
  },
  {
   "cell_type": "markdown",
   "id": "0757a4e1",
   "metadata": {},
   "source": [
    "#### Atlas Search Index\n",
    "\n",
    "```json\n",
    "\n",
    "{\n",
    "  \"mappings\": {\n",
    "    \"dynamic\": true\n",
    "  },\n",
    "  \"synonyms\": [\n",
    "    {\n",
    "      \"analyzer\": \"lucene.standard\",\n",
    "      \"name\": \"mySynonyms\",\n",
    "      \"source\": {\n",
    "        \"collection\": \"synonyms\"\n",
    "      }\n",
    "    }\n",
    "  ]\n",
    "}\n",
    "\n",
    "```"
   ]
  },
  {
   "cell_type": "markdown",
   "id": "9262b604",
   "metadata": {},
   "source": [
    "#### Do a search without synonym inplace"
   ]
  },
  {
   "cell_type": "code",
   "execution_count": 4,
   "id": "91a9c40c",
   "metadata": {},
   "outputs": [
    {
     "name": "stdout",
     "output_type": "stream",
     "text": [
      "[]\n"
     ]
    }
   ],
   "source": [
    "pipeline = [\n",
    "    {\n",
    "        '$search': {\n",
    "            'index': 'synonyms',\n",
    "            'text': {\n",
    "                'query': 'wakeful',\n",
    "                'path': 'plot',\n",
    "                'synonyms': 'mySynonyms'                \n",
    "            }\n",
    "        }\n",
    "    },\n",
    "    {\n",
    "        '$project' : {\n",
    "            '_id' : 0,\n",
    "            'title' : 1,\n",
    "            'plot' : 1\n",
    "        }\n",
    "    },\n",
    "    {\n",
    "        '$limit' : 3\n",
    "    }\n",
    "]\n",
    "\n",
    "result = list(client['movies'].aggregate(pipeline))\n",
    "pp.pprint(result)"
   ]
  },
  {
   "cell_type": "markdown",
   "id": "1d8189c3",
   "metadata": {},
   "source": [
    "### Insert synonym"
   ]
  },
  {
   "cell_type": "code",
   "execution_count": null,
   "id": "6d57338a",
   "metadata": {},
   "outputs": [],
   "source": [
    "synonym_doc = {\n",
    "  \"mappingType\": \"equivalent\",\n",
    "  \"synonyms\": [\n",
    "    \"insomniac\",\n",
    "    \"sleepless\",\n",
    "    \"wakeful\"\n",
    "  ]\n",
    "}\n",
    "\n",
    "result = client['synonyms'].insert_one(synonym_doc)\n",
    "print(\"Inserted doc: \" + str(result.inserted_id))"
   ]
  },
  {
   "cell_type": "markdown",
   "id": "03b182ba",
   "metadata": {},
   "source": [
    "#### Run the same search again"
   ]
  },
  {
   "cell_type": "code",
   "execution_count": null,
   "id": "90fb208d",
   "metadata": {},
   "outputs": [],
   "source": [
    "pipeline = [\n",
    "    {\n",
    "        '$search': {\n",
    "            'index': 'synonyms',\n",
    "            'text': {\n",
    "                'query': 'wakeful',\n",
    "                'path': 'plot',\n",
    "                'synonyms': 'mySynonyms'                \n",
    "            }\n",
    "        }\n",
    "    },\n",
    "    {\n",
    "        '$project' : {\n",
    "            '_id' : 0,\n",
    "            'title' : 1,\n",
    "            'plot' : 1\n",
    "        }\n",
    "    },\n",
    "    {\n",
    "        '$limit' : 3\n",
    "    }\n",
    "]\n",
    "\n",
    "result = list(client['movies'].aggregate(pipeline))\n",
    "pp.pprint(result)"
   ]
  },
  {
   "cell_type": "markdown",
   "id": "6c4ba196",
   "metadata": {},
   "source": [
    "#### Clean up synonym"
   ]
  },
  {
   "cell_type": "code",
   "execution_count": 3,
   "id": "e8495ebb",
   "metadata": {},
   "outputs": [
    {
     "name": "stdout",
     "output_type": "stream",
     "text": [
      "Deleted docs: 1\n"
     ]
    }
   ],
   "source": [
    "del_filter = { \"synonyms\": {\"$in\" : [\"insomniac\"]}}\n",
    "\n",
    "result = client['synonyms'].delete_many(del_filter)\n",
    "print(\"Deleted docs: \" + str(result.deleted_count))"
   ]
  },
  {
   "cell_type": "code",
   "execution_count": null,
   "id": "0d991858",
   "metadata": {},
   "outputs": [],
   "source": []
  }
 ],
 "metadata": {
  "kernelspec": {
   "display_name": "Python 3 (ipykernel)",
   "language": "python",
   "name": "python3"
  },
  "language_info": {
   "codemirror_mode": {
    "name": "ipython",
    "version": 3
   },
   "file_extension": ".py",
   "mimetype": "text/x-python",
   "name": "python",
   "nbconvert_exporter": "python",
   "pygments_lexer": "ipython3",
   "version": "3.9.12"
  }
 },
 "nbformat": 4,
 "nbformat_minor": 5
}
