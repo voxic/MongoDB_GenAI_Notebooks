{
 "cells": [
  {
   "cell_type": "markdown",
   "id": "78f49223",
   "metadata": {},
   "source": [
    "# MongoDB Atlas Search: Autocomplete with embedded documents"
   ]
  },
  {
   "cell_type": "markdown",
   "id": "ac751afa",
   "metadata": {},
   "source": [
    "## Setup"
   ]
  },
  {
   "cell_type": "code",
   "execution_count": null,
   "id": "4f94ad7e",
   "metadata": {},
   "outputs": [],
   "source": [
    "# import our libraries, instantiate our classes\n",
    "\n",
    "import sys\n",
    "import os\n",
    "from pymongo import MongoClient\n",
    "from dotenv import load_dotenv\n",
    "import pprint\n",
    "\n",
    "# Load environment variables from a .env file, overriding any existing variables in the environment.\n",
    "# This is useful for not cluttering the code with sensitive information like API keys and database URIs.\n",
    "load_dotenv(override=True)\n",
    "\n",
    "MONGO_URI = os.environ[\"MONGO_URI\"]\n",
    "\n",
    "client = MongoClient(MONGO_URI)['TRANSLATIONS']\n",
    "\n",
    "pp = pprint.PrettyPrinter(indent=1)"
   ]
  },
  {
   "cell_type": "markdown",
   "id": "05765cbe",
   "metadata": {},
   "source": [
    "#### Atlas Search Index\n",
    "\n",
    "```json\n",
    "\n",
    "{\n",
    "  \"mappings\": {\n",
    "    \"dynamic\": false,\n",
    "    \"fields\": {\n",
    "      \"TRANSLATIONS\": {\n",
    "        \"fields\": {\n",
    "          \"TEXT_VALUE\": [\n",
    "            {\n",
    "              \"foldDiacritics\": false,\n",
    "              \"maxGrams\": 15,\n",
    "              \"minGrams\": 2,\n",
    "              \"tokenization\": \"edgeGram\",\n",
    "              \"type\": \"autocomplete\"\n",
    "            }\n",
    "          ]\n",
    "        },\n",
    "        \"type\": \"embeddedDocuments\"\n",
    "      }\n",
    "    }\n",
    "  }\n",
    "}\n",
    "\n",
    "```"
   ]
  },
  {
   "attachments": {},
   "cell_type": "markdown",
   "id": "a7bf5c69",
   "metadata": {},
   "source": [
    "### Example document\n",
    "\n",
    "```json\n",
    "\n",
    "{\n",
    "    \"_id\" : ObjectID(\"sd123123jk13kj13\"),\n",
    "    \"TRANSLATIONS\" : [\n",
    "        {\n",
    "            \"TEXT_VALUE\" : \"This is a sample text\"\n",
    "        },\n",
    "        {\n",
    "            \"TEXT_VALUE\" : \"Este es un texto de muestra\"\n",
    "        }\n",
    "    ]\n",
    "}\n",
    "\n",
    "```\n",
    "\n",
    "See the file: [TRANSLATIONS.json](./TRANSLATIONS.json)"
   ]
  },
  {
   "attachments": {},
   "cell_type": "markdown",
   "id": "fdd9d338",
   "metadata": {},
   "source": [
    "# Run the search"
   ]
  },
  {
   "cell_type": "code",
   "execution_count": null,
   "id": "91a9c40c",
   "metadata": {},
   "outputs": [],
   "source": [
    "basic_search = [\n",
    "    {\n",
    "        '$search': {\n",
    "            'index': 'autocomplete', \n",
    "            'embeddedDocument': {\n",
    "                'path': 'TRANSLATIONS', \n",
    "                'operator': {\n",
    "                    'autocomplete': {\n",
    "                        'query': 'for', \n",
    "                        'path': 'TRANSLATIONS.TEXT_VALUE'\n",
    "                    }\n",
    "                }\n",
    "            }\n",
    "        }\n",
    "    }\n",
    "]\n",
    "\n",
    "result = list(client['TRANSLATIONS'].aggregate(basic_search))\n",
    "pp.pprint(result)"
   ]
  }
 ],
 "metadata": {
  "kernelspec": {
   "display_name": "Python 3.9.6 64-bit",
   "language": "python",
   "name": "python3"
  },
  "language_info": {
   "codemirror_mode": {
    "name": "ipython",
    "version": 3
   },
   "file_extension": ".py",
   "mimetype": "text/x-python",
   "name": "python",
   "nbconvert_exporter": "python",
   "pygments_lexer": "ipython3"
  },
  "vscode": {
   "interpreter": {
    "hash": "31f2aee4e71d21fbe5cf8b01ff0e069b9275f58929596ceb00d14d90e3e16cd6"
   }
  }
 },
 "nbformat": 4,
 "nbformat_minor": 5
}
