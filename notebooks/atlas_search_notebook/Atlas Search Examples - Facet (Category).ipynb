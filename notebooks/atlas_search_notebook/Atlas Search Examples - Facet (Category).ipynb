{
 "cells": [
  {
   "cell_type": "markdown",
   "id": "78f49223",
   "metadata": {},
   "source": [
    "# MongoDB Atlas Search: Facets (Category search)"
   ]
  },
  {
   "cell_type": "markdown",
   "id": "ac751afa",
   "metadata": {},
   "source": [
    "## Setup"
   ]
  },
  {
   "cell_type": "code",
   "execution_count": null,
   "id": "4f94ad7e",
   "metadata": {},
   "outputs": [],
   "source": [
    "# import our libraries, instantiate our classes\n",
    "\n",
    "import sys\n",
    "import os\n",
    "from pymongo import MongoClient\n",
    "from dotenv import load_dotenv\n",
    "import pprint\n",
    "\n",
    "# Load environment variables from a .env file, overriding any existing variables in the environment.\n",
    "# This is useful for not cluttering the code with sensitive information like API keys and database URIs.\n",
    "load_dotenv(override=True)\n",
    "\n",
    "MONGO_URI = os.environ[\"MONGO_URI\"]\n",
    "\n",
    "client = MongoClient(MONGO_URI)['sample_mflix']\n",
    "\n",
    "pp = pprint.PrettyPrinter(indent=1)"
   ]
  },
  {
   "cell_type": "markdown",
   "id": "dde57663",
   "metadata": {},
   "source": [
    "### Facet search"
   ]
  },
  {
   "cell_type": "markdown",
   "id": "a7f8d185",
   "metadata": {},
   "source": [
    "#### Atlas Search index\n",
    "\n",
    "```json\n",
    "{\n",
    "  \"mappings\": {\n",
    "    \"dynamic\": false,\n",
    "    \"fields\": {\n",
    "      \"directors\": {\n",
    "        \"type\": \"stringFacet\"\n",
    "      },\n",
    "      \"released\": {\n",
    "        \"type\": \"date\"\n",
    "      },\n",
    "      \"year\": {\n",
    "        \"type\": \"number\"\n",
    "      }\n",
    "    }\n",
    "  }\n",
    "}\n",
    "```"
   ]
  },
  {
   "cell_type": "code",
   "execution_count": null,
   "id": "c6475960",
   "metadata": {},
   "outputs": [],
   "source": [
    "pipeline = [\n",
    "     {\n",
    "       \"$searchMeta\": {\n",
    "         \"index\":\"facet\",\n",
    "         \"facet\": {\n",
    "           \"operator\": {\n",
    "             \"range\": {\n",
    "               \"path\": \"released\",\n",
    "               \"gte\": datetime.datetime(2000,1,1),\n",
    "               \"lte\": datetime.datetime(2015,1,1)\n",
    "             }\n",
    "           },\n",
    "           \"facets\": {\n",
    "             \"directorsFacet\": {\n",
    "               \"type\": \"string\",\n",
    "               \"path\": \"directors\",\n",
    "               \"numBuckets\" : 7\n",
    "             },\n",
    "             \"yearFacet\" : {\n",
    "               \"type\" : \"number\",\n",
    "               \"path\" : \"year\",\n",
    "               \"boundaries\" : [2000,2005,2010,2015]\n",
    "             }\n",
    "           }\n",
    "         }\n",
    "       }\n",
    "     }\n",
    "]\n",
    "\n",
    "result = list(client['movies'].aggregate(pipeline))\n",
    "pp.pprint(result)"
   ]
  },
  {
   "cell_type": "code",
   "execution_count": null,
   "id": "2f70f098",
   "metadata": {},
   "outputs": [],
   "source": []
  }
 ],
 "metadata": {
  "kernelspec": {
   "display_name": "Python 3.8.9 64-bit",
   "language": "python",
   "name": "python3"
  },
  "language_info": {
   "codemirror_mode": {
    "name": "ipython",
    "version": 3
   },
   "file_extension": ".py",
   "mimetype": "text/x-python",
   "name": "python",
   "nbconvert_exporter": "python",
   "pygments_lexer": "ipython3"
  },
  "vscode": {
   "interpreter": {
    "hash": "31f2aee4e71d21fbe5cf8b01ff0e069b9275f58929596ceb00d14d90e3e16cd6"
   }
  }
 },
 "nbformat": 4,
 "nbformat_minor": 5
}
