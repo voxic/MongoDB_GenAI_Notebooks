{
 "cells": [
  {
   "cell_type": "markdown",
   "id": "78f49223",
   "metadata": {},
   "source": [
    "# MongoDB Atlas Search: More like this"
   ]
  },
  {
   "cell_type": "markdown",
   "id": "ac751afa",
   "metadata": {},
   "source": [
    "## Setup"
   ]
  },
  {
   "cell_type": "code",
   "execution_count": null,
   "id": "4f94ad7e",
   "metadata": {},
   "outputs": [],
   "source": [
    "# import our libraries, instantiate our classes\n",
    "import sys\n",
    "import os\n",
    "from pymongo import MongoClient\n",
    "from dotenv import load_dotenv\n",
    "import pprint\n",
    "\n",
    "# Load environment variables from a .env file, overriding any existing variables in the environment.\n",
    "# This is useful for not cluttering the code with sensitive information like API keys and database URIs.\n",
    "load_dotenv(override=True)\n",
    "\n",
    "MONGO_URI = os.environ[\"MONGO_URI\"]\n",
    "\n",
    "client = MongoClient(MONGO_URI)['sample_mflix']\n",
    "\n",
    "pp = pprint.PrettyPrinter(indent=1)"
   ]
  },
  {
   "cell_type": "markdown",
   "id": "701a79da",
   "metadata": {},
   "source": [
    "#### Atlas Search Index\n",
    "\n",
    "```json\n",
    "\n",
    "{\n",
    "  \"mappings\": {\n",
    "    \"dynamic\": true\n",
    "  }\n",
    "}\n",
    "\n",
    "```"
   ]
  },
  {
   "cell_type": "markdown",
   "id": "dde57663",
   "metadata": {},
   "source": [
    "### Let's fetch an example document"
   ]
  },
  {
   "cell_type": "code",
   "execution_count": null,
   "id": "91a9c40c",
   "metadata": {},
   "outputs": [],
   "source": [
    "# fetch a sample document, in this case, the movie \"The Godfather\"\n",
    "one_document_query = [\n",
    "    {'$match':{\"title\":\"The Godfather\"}},\n",
    "    {'$project':{\n",
    "        \"genres\":1,\n",
    "        \"plot\":1,\n",
    "        \"_id\":0\n",
    "    }},\n",
    "    {\"$limit\":1}\n",
    "]\n",
    "\n",
    "result = list(client['movies'].aggregate(one_document_query))\n",
    "pp.pprint(result)"
   ]
  },
  {
   "cell_type": "markdown",
   "id": "4c72b3c5",
   "metadata": {},
   "source": [
    "#### Now, we provide the result above as a reference document to the MoreLikeThis query:"
   ]
  },
  {
   "cell_type": "code",
   "execution_count": null,
   "id": "c6475960",
   "metadata": {},
   "outputs": [],
   "source": [
    "# Construct \n",
    "more_like_this_query = [\n",
    "    {\n",
    "        '$search': {\n",
    "            'index': 'default', \n",
    "            'moreLikeThis': {\n",
    "                'like': result\n",
    "            }\n",
    "        }\n",
    "    },\n",
    "    {\n",
    "        '$project':{\n",
    "            \"genres\":1,\n",
    "            \"plot\":1,\n",
    "            \"title\":1,\n",
    "            \"_id\":0,\n",
    "            'score': {\n",
    "                '$meta': 'searchScore'\n",
    "            }\n",
    "        }\n",
    "    },\n",
    "    {'$limit':10}\n",
    "]\n",
    "\n",
    "pp.pprint(list(client['movies'].aggregate(more_like_this_query)))"
   ]
  },
  {
   "cell_type": "code",
   "execution_count": null,
   "id": "415e0413",
   "metadata": {},
   "outputs": [],
   "source": []
  }
 ],
 "metadata": {
  "kernelspec": {
   "display_name": "Python 3 (ipykernel)",
   "language": "python",
   "name": "python3"
  },
  "language_info": {
   "codemirror_mode": {
    "name": "ipython",
    "version": 3
   },
   "file_extension": ".py",
   "mimetype": "text/x-python",
   "name": "python",
   "nbconvert_exporter": "python",
   "pygments_lexer": "ipython3",
   "version": "3.9.12"
  }
 },
 "nbformat": 4,
 "nbformat_minor": 5
}
