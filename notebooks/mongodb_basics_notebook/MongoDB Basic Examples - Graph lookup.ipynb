{
 "cells": [
  {
   "cell_type": "markdown",
   "id": "78f49223",
   "metadata": {},
   "source": [
    "# MongoDB Atlas Search: Basic Search"
   ]
  },
  {
   "cell_type": "markdown",
   "id": "ac751afa",
   "metadata": {},
   "source": [
    "## Setup"
   ]
  },
  {
   "cell_type": "code",
   "execution_count": null,
   "id": "4f94ad7e",
   "metadata": {},
   "outputs": [
    {
     "name": "stdout",
     "output_type": "stream",
     "text": [
      "Pinged your deployment. You successfully connected to MongoDB!\n"
     ]
    }
   ],
   "source": [
    "# import our libraries, instantiate our classes\n",
    "\n",
    "import sys\n",
    "import os\n",
    "from pymongo import MongoClient\n",
    "from dotenv import load_dotenv\n",
    "import pprint\n",
    "\n",
    "# Load environment variables from a .env file, overriding any existing variables in the environment.\n",
    "# This is useful for not cluttering the code with sensitive information like API keys and database URIs.\n",
    "load_dotenv(override=True)\n",
    "\n",
    "MONGO_URI = os.environ[\"MONGO_URI\"]\n",
    "\n",
    "client = MongoClient(MONGO_URI)\n",
    "\n",
    "db = client.basic_graph\n",
    "\n",
    "pp = pprint.PrettyPrinter(indent=1)\n",
    "\n",
    "# Send a ping to confirm a successful connection\n",
    "try:\n",
    "    client.admin.command('ping')\n",
    "    print(\"Pinged your deployment. You successfully connected to MongoDB!\")\n",
    "except Exception as e:\n",
    "    print(e)"
   ]
  },
  {
   "cell_type": "markdown",
   "id": "dde57663",
   "metadata": {},
   "source": [
    "### MongoDB $graphLookup"
   ]
  },
  {
   "cell_type": "markdown",
   "id": "2100c7d3",
   "metadata": {},
   "source": [
    "### Insert example documents"
   ]
  },
  {
   "cell_type": "code",
   "execution_count": 4,
   "id": "91a9c40c",
   "metadata": {},
   "outputs": [
    {
     "name": "stdout",
     "output_type": "stream",
     "text": [
      "ObjectId('660f0369fd4a9ea3a32b8c10')\n"
     ]
    }
   ],
   "source": [
    "data = [\n",
    "{ \"_id\" : 1, \"name\" : \"Dev\" },\n",
    "{ \"_id\" : 2, \"name\" : \"Eliot\", \"reportsTo\" : \"Dev\" },\n",
    "{ \"_id\" : 3, \"name\" : \"Ron\", \"reportsTo\" : \"Eliot\" },\n",
    "{ \"_id\" : 4, \"name\" : \"Andrew\", \"reportsTo\" : \"Eliot\" },\n",
    "{ \"_id\" : 5, \"name\" : \"Asya\", \"reportsTo\" : \"Ron\" },\n",
    "{ \"_id\" : 6, \"name\" : \"Dan\", \"reportsTo\" : \"Andrew\" },\n",
    "]\n",
    "employees = db.employees\n",
    "result = employees.insert_many(data)\n",
    "pp.pprint(result.inserted_ids)"
   ]
  },
  {
   "cell_type": "markdown",
   "id": "81ec4449",
   "metadata": {},
   "source": [
    "### Aggregation Pipeline\n",
    "#### $graphLookup"
   ]
  },
  {
   "cell_type": "markdown",
   "id": "245e5d79",
   "metadata": {},
   "source": [
    "More information:   \n",
    "https://www.mongodb.com/docs/manual/reference/operator/aggregation/graphLookup/"
   ]
  },
  {
   "cell_type": "code",
   "execution_count": null,
   "id": "a77f1ad8",
   "metadata": {},
   "outputs": [],
   "source": [
    "pprint.pprint(list(employees.aggregate( [\n",
    "   {\n",
    "      '$graphLookup': {\n",
    "         'from': \"employees\",\n",
    "         'startWith': \"$reportsTo\",\n",
    "         'connectFromField': \"reportsTo\",\n",
    "         'connectToField': \"name\",\n",
    "         'as': \"reportingHierarchy\"\n",
    "      }\n",
    "   }\n",
    "] )))"
   ]
  }
 ],
 "metadata": {
  "kernelspec": {
   "display_name": "Python 3 (ipykernel)",
   "language": "python",
   "name": "python3"
  },
  "language_info": {
   "codemirror_mode": {
    "name": "ipython",
    "version": 3
   },
   "file_extension": ".py",
   "mimetype": "text/x-python",
   "name": "python",
   "nbconvert_exporter": "python",
   "pygments_lexer": "ipython3",
   "version": "3.9.19"
  },
  "vscode": {
   "interpreter": {
    "hash": "31f2aee4e71d21fbe5cf8b01ff0e069b9275f58929596ceb00d14d90e3e16cd6"
   }
  }
 },
 "nbformat": 4,
 "nbformat_minor": 5
}
