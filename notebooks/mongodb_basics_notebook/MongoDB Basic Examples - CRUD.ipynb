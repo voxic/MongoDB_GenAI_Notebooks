{
 "cells": [
  {
   "cell_type": "markdown",
   "id": "78f49223",
   "metadata": {},
   "source": [
    "# MongoDB Atlas: Basic CRUD"
   ]
  },
  {
   "cell_type": "markdown",
   "id": "ac751afa",
   "metadata": {},
   "source": [
    "## Setup"
   ]
  },
  {
   "cell_type": "code",
   "execution_count": 1,
   "id": "4f94ad7e",
   "metadata": {},
   "outputs": [
    {
     "name": "stdout",
     "output_type": "stream",
     "text": [
      "mongodb-uri:27017: [Errno 8] nodename nor servname provided, or not known (configured timeouts: socketTimeoutMS: 20000.0ms, connectTimeoutMS: 20000.0ms), Timeout: 30s, Topology Description: <TopologyDescription id: 660fc6c89cee847589d77cbe, topology_type: Unknown, servers: [<ServerDescription ('mongodb-uri', 27017) server_type: Unknown, rtt: None, error=AutoReconnect('mongodb-uri:27017: [Errno 8] nodename nor servname provided, or not known (configured timeouts: socketTimeoutMS: 20000.0ms, connectTimeoutMS: 20000.0ms)')>]>\n"
     ]
    }
   ],
   "source": [
    "# import our libraries, instantiate our classes\n",
    "\n",
    "import sys\n",
    "import os\n",
    "from pymongo import MongoClient\n",
    "from dotenv import load_dotenv\n",
    "import pprint\n",
    "\n",
    "# Load environment variables from a .env file, overriding any existing variables in the environment.\n",
    "# This is useful for not cluttering the code with sensitive information like API keys and database URIs.\n",
    "load_dotenv(override=True)\n",
    "\n",
    "MONGO_URI = os.environ[\"MONGO_URI\"]\n",
    "\n",
    "client = MongoClient(MONGO_URI)\n",
    "\n",
    "db = client.basic_crud\n",
    "\n",
    "pp = pprint.PrettyPrinter(indent=1)\n",
    "\n",
    "# Send a ping to confirm a successful connection\n",
    "try:\n",
    "    client.admin.command('ping')\n",
    "    print(\"Pinged your deployment. You successfully connected to MongoDB!\")\n",
    "except Exception as e:\n",
    "    print(e)"
   ]
  },
  {
   "cell_type": "markdown",
   "id": "dde57663",
   "metadata": {},
   "source": [
    "### (C)RUD"
   ]
  },
  {
   "cell_type": "markdown",
   "id": "2100c7d3",
   "metadata": {},
   "source": [
    "## insert_one()"
   ]
  },
  {
   "cell_type": "markdown",
   "id": "3a260fc5",
   "metadata": {},
   "source": [
    "To insert a document into a collection we can use the insert_one() method."
   ]
  },
  {
   "cell_type": "code",
   "execution_count": 4,
   "id": "91a9c40c",
   "metadata": {},
   "outputs": [
    {
     "name": "stdout",
     "output_type": "stream",
     "text": [
      "ObjectId('660f0369fd4a9ea3a32b8c10')\n"
     ]
    }
   ],
   "source": [
    "import datetime\n",
    "post = {\n",
    "    \"author\": \"Mike\",\n",
    "    \"text\": \"My first blog post!\",\n",
    "    \"tags\": [\"mongodb\", \"python\", \"pymongo\"],\n",
    "    \"date\": datetime.datetime.now(tz=datetime.timezone.utc),\n",
    "}\n",
    "\n",
    "posts = db.posts\n",
    "post_id = posts.insert_one(post).inserted_id\n",
    "pp.pprint(post_id)"
   ]
  },
  {
   "cell_type": "markdown",
   "id": "a5d8c721",
   "metadata": {},
   "source": [
    "When a document is inserted a special key, \"_id\", is automatically added if the document doesn’t already contain an \"_id\" key. The value of \"_id\" must be unique across the collection. insert_one() returns an instance of InsertOneResult. \n",
    "\n",
    "After inserting the first document, the posts collection has actually been created on the server. "
   ]
  },
  {
   "cell_type": "markdown",
   "id": "9ddc81ef",
   "metadata": {},
   "source": [
    "### C(R)UD"
   ]
  },
  {
   "cell_type": "markdown",
   "id": "d4283cca",
   "metadata": {},
   "source": [
    "## find_one()"
   ]
  },
  {
   "cell_type": "markdown",
   "id": "dd2e7290",
   "metadata": {},
   "source": [
    "The most basic type of query that can be performed in MongoDB is find_one(). This method returns a single document matching a query (or None if there are no matches). It is useful when you know there is only one matching document, or are only interested in the first match. Here we use find_one() to get the first document from the posts collection."
   ]
  },
  {
   "cell_type": "code",
   "execution_count": 5,
   "id": "c6475960",
   "metadata": {},
   "outputs": [
    {
     "name": "stdout",
     "output_type": "stream",
     "text": [
      "{'_id': ObjectId('660f0369fd4a9ea3a32b8c10'),\n",
      " 'author': 'Mike',\n",
      " 'date': datetime.datetime(2024, 4, 4, 19, 45, 45, 431000),\n",
      " 'tags': ['mongodb', 'python', 'pymongo'],\n",
      " 'text': 'My first blog post!'}\n"
     ]
    }
   ],
   "source": [
    "pprint.pprint(posts.find_one())"
   ]
  },
  {
   "cell_type": "markdown",
   "id": "68a90f31",
   "metadata": {},
   "source": [
    "The result is a dictionary matching the one that we inserted previously.\n",
    "find_one() also supports querying on specific elements that the resulting document must match.   \n",
    "To limit our results to a document with author “Mike” we do:"
   ]
  },
  {
   "cell_type": "code",
   "execution_count": 6,
   "id": "f3ffcd40",
   "metadata": {},
   "outputs": [
    {
     "name": "stdout",
     "output_type": "stream",
     "text": [
      "{'_id': ObjectId('660f0369fd4a9ea3a32b8c10'),\n",
      " 'author': 'Mike',\n",
      " 'date': datetime.datetime(2024, 4, 4, 19, 45, 45, 431000),\n",
      " 'tags': ['mongodb', 'python', 'pymongo'],\n",
      " 'text': 'My first blog post!'}\n"
     ]
    }
   ],
   "source": [
    "pprint.pprint(posts.find_one({\"author\": \"Mike\"}))"
   ]
  },
  {
   "cell_type": "markdown",
   "id": "25e1fd47",
   "metadata": {},
   "source": [
    "### CR(U)D"
   ]
  },
  {
   "cell_type": "markdown",
   "id": "ea4df536",
   "metadata": {},
   "source": [
    "## update_one()\n",
    "\n",
    "Update a single document matching the filter."
   ]
  },
  {
   "cell_type": "code",
   "execution_count": 7,
   "id": "eb67caf4",
   "metadata": {},
   "outputs": [
    {
     "name": "stdout",
     "output_type": "stream",
     "text": [
      "<pymongo.results.UpdateResult object at 0x10562c0d0>\n"
     ]
    }
   ],
   "source": [
    "filter = {\"author\": \"Mike\"}\n",
    "update = {'$set': {'published' : True}}\n",
    "\n",
    "result = posts.update_one(filter, update)\n",
    "print(result.modified_count)\n",
    "\n",
    "pprint.pprint(posts.find_one({\"author\": \"Mike\"}))"
   ]
  },
  {
   "cell_type": "markdown",
   "id": "63f7a5ae",
   "metadata": {},
   "source": [
    "### CRU(D)"
   ]
  },
  {
   "cell_type": "markdown",
   "id": "c67ec676",
   "metadata": {},
   "source": [
    "## delete_one()"
   ]
  },
  {
   "cell_type": "markdown",
   "id": "d16a1b8c",
   "metadata": {},
   "source": [
    "Delete a single document matching the filter."
   ]
  },
  {
   "cell_type": "code",
   "execution_count": null,
   "id": "7447136d",
   "metadata": {},
   "outputs": [],
   "source": [
    "filter = {\"author\": \"Mike\"}\n",
    "result = posts.delete_one(filter)\n",
    "print(result.deleted_count)"
   ]
  }
 ],
 "metadata": {
  "kernelspec": {
   "display_name": "Python 3 (ipykernel)",
   "language": "python",
   "name": "python3"
  },
  "language_info": {
   "codemirror_mode": {
    "name": "ipython",
    "version": 3
   },
   "file_extension": ".py",
   "mimetype": "text/x-python",
   "name": "python",
   "nbconvert_exporter": "python",
   "pygments_lexer": "ipython3",
   "version": "3.12.2"
  },
  "vscode": {
   "interpreter": {
    "hash": "31f2aee4e71d21fbe5cf8b01ff0e069b9275f58929596ceb00d14d90e3e16cd6"
   }
  }
 },
 "nbformat": 4,
 "nbformat_minor": 5
}
